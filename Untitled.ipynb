{
 "cells": [
  {
   "cell_type": "code",
   "execution_count": 1,
   "id": "34b9ca7f-6aa9-49c1-a7d8-542e57bd0fad",
   "metadata": {},
   "outputs": [
    {
     "data": {
      "text/plain": [
       "15"
      ]
     },
     "execution_count": 1,
     "metadata": {},
     "output_type": "execute_result"
    }
   ],
   "source": [
    "lis = [1,2,3,4,5]\n",
    "sum(lis)"
   ]
  },
  {
   "cell_type": "code",
   "execution_count": 89,
   "id": "9fa8c9fe-5a56-45be-9ba4-eaaa94dd934f",
   "metadata": {},
   "outputs": [
    {
     "name": "stdout",
     "output_type": "stream",
     "text": [
      "0 : chicago\n",
      "1 : london\n",
      "2 : seattle\n",
      "3 : sydney\n",
      "4 : new york\n"
     ]
    }
   ],
   "source": [
    "my_set = {'london', 'new york', 'seattle', 'sydney','chicago'}\n",
    "for counter, item in enumerate(my_set):\n",
    "    print(counter,\":\",item)"
   ]
  },
  {
   "cell_type": "code",
   "execution_count": 92,
   "id": "88118358-0948-4400-91e5-47e02fbb0b42",
   "metadata": {},
   "outputs": [
    {
     "ename": "TypeError",
     "evalue": "'set' object is not subscriptable",
     "output_type": "error",
     "traceback": [
      "\u001b[0;31m---------------------------------------------------------------------------\u001b[0m",
      "\u001b[0;31mTypeError\u001b[0m                                 Traceback (most recent call last)",
      "Input \u001b[0;32mIn [92]\u001b[0m, in \u001b[0;36m<cell line: 2>\u001b[0;34m()\u001b[0m\n\u001b[1;32m      1\u001b[0m my_set \u001b[38;5;241m=\u001b[39m {\u001b[38;5;124m'\u001b[39m\u001b[38;5;124mlondon\u001b[39m\u001b[38;5;124m'\u001b[39m, \u001b[38;5;124m'\u001b[39m\u001b[38;5;124mnew york\u001b[39m\u001b[38;5;124m'\u001b[39m, \u001b[38;5;124m'\u001b[39m\u001b[38;5;124mseattle\u001b[39m\u001b[38;5;124m'\u001b[39m, \u001b[38;5;124m'\u001b[39m\u001b[38;5;124msydney\u001b[39m\u001b[38;5;124m'\u001b[39m,\u001b[38;5;124m'\u001b[39m\u001b[38;5;124mchicago\u001b[39m\u001b[38;5;124m'\u001b[39m}\n\u001b[1;32m      2\u001b[0m \u001b[38;5;28;01mfor\u001b[39;00m counter, item \u001b[38;5;129;01min\u001b[39;00m \u001b[38;5;28menumerate\u001b[39m(my_set):\n\u001b[0;32m----> 3\u001b[0m     \u001b[38;5;28mprint\u001b[39m(\u001b[43mmy_set\u001b[49m\u001b[43m[\u001b[49m\u001b[43mcounter\u001b[49m\u001b[43m]\u001b[49m)\n",
      "\u001b[0;31mTypeError\u001b[0m: 'set' object is not subscriptable"
     ]
    }
   ],
   "source": [
    "my_set = {'london', 'new york', 'seattle', 'sydney','chicago'}\n",
    "for counter, item in enumerate(my_set):\n",
    "    print(my_set[counter])"
   ]
  },
  {
   "cell_type": "code",
   "execution_count": 95,
   "id": "bf1d5077-94ed-4349-aa8f-fe65f7978e63",
   "metadata": {},
   "outputs": [
    {
     "data": {
      "text/plain": [
       "[1, 2, 3, 4]"
      ]
     },
     "execution_count": 95,
     "metadata": {},
     "output_type": "execute_result"
    }
   ],
   "source": [
    "nums =[1,1,2,2,3,4]\n",
    "nums = list(set(nums))\n",
    "nums"
   ]
  },
  {
   "cell_type": "code",
   "execution_count": null,
   "id": "c5e89192-7360-4ba4-920c-010b3ffeacb1",
   "metadata": {},
   "outputs": [],
   "source": [
    "counter = 0\n",
    "\n",
    "for i in range(len(nums)):\n",
    "    while"
   ]
  },
  {
   "cell_type": "code",
   "execution_count": 3,
   "id": "fb99b686-b385-4e0d-a85b-0663c0b11bff",
   "metadata": {},
   "outputs": [],
   "source": [
    "nums = [2,7,4,9,5,1,3]\n",
    "total = 10"
   ]
  },
  {
   "cell_type": "code",
   "execution_count": 7,
   "id": "70e54656-4002-4817-aa60-fc05e65166d7",
   "metadata": {},
   "outputs": [
    {
     "name": "stdout",
     "output_type": "stream",
     "text": [
      "(1, 2, 3)\n",
      "(1, 2, 4)\n",
      "(1, 2, 5)\n",
      "(1, 2, 7)\n",
      "(1, 3, 4)\n",
      "(1, 3, 5)\n",
      "(1, 4, 5)\n",
      "(2, 3, 4)\n",
      "(2, 3, 5)\n"
     ]
    }
   ],
   "source": [
    "def printAllTriplets(nums, total):\n",
    "    nums.sort()\n",
    "    \n",
    "    for i in range(len(nums)-2):\n",
    "        low = i + 1\n",
    "        high = len(nums) - 1\n",
    "        \n",
    "        while low < high:\n",
    "            if nums[i] + nums[low] + nums[high] > total:\n",
    "                high = high - 1\n",
    "            else:\n",
    "                for x in range(low+1, high+1):\n",
    "                    print((nums[i],nums[low],nums[x]))\n",
    "                low = low + 1\n",
    "\n",
    "printAllTriplets(nums, total)"
   ]
  },
  {
   "cell_type": "code",
   "execution_count": 52,
   "id": "9de1f2bf-e6de-4a83-ad9a-a99b550076a2",
   "metadata": {},
   "outputs": [
    {
     "data": {
      "text/plain": [
       "defaultdict(int, {0: 1})"
      ]
     },
     "execution_count": 52,
     "metadata": {},
     "output_type": "execute_result"
    }
   ],
   "source": [
    "from collections import defaultdict\n",
    "\n",
    "prefixSums = defaultdict(int, { 0 : 1 })\n",
    "prefixSums"
   ]
  },
  {
   "cell_type": "code",
   "execution_count": null,
   "id": "2a3009f1-2a22-4028-8f3e-9582960fafe3",
   "metadata": {},
   "outputs": [],
   "source": [
    "res +=prefixSums[1-3]"
   ]
  },
  {
   "cell_type": "code",
   "execution_count": 16,
   "id": "37890c01-d835-4ce7-97fe-60ecbfdaafb2",
   "metadata": {},
   "outputs": [],
   "source": [
    "prefixSums[0] = 1"
   ]
  },
  {
   "cell_type": "code",
   "execution_count": 18,
   "id": "57e6d31b-e058-4b94-abdd-35082dfd2673",
   "metadata": {},
   "outputs": [],
   "source": [
    "prefixSums[1] = 2"
   ]
  },
  {
   "cell_type": "code",
   "execution_count": 21,
   "id": "45c5a07a-4b15-4791-a76f-f474e01ee66c",
   "metadata": {},
   "outputs": [
    {
     "data": {
      "text/plain": [
       "2"
      ]
     },
     "execution_count": 21,
     "metadata": {},
     "output_type": "execute_result"
    }
   ],
   "source": [
    "prefixSums[1]"
   ]
  },
  {
   "cell_type": "code",
   "execution_count": 53,
   "id": "ca5eb166-b04b-4531-a56e-026339aef413",
   "metadata": {},
   "outputs": [],
   "source": [
    "prefixSums = defaultdict(int, {0:1})\n",
    "curSum = 0\n",
    "res = 0\n",
    "\n",
    "res += prefixSums[1-3]"
   ]
  },
  {
   "cell_type": "code",
   "execution_count": 54,
   "id": "ee0bfd1d-f0b6-4816-b179-dbb5eb4a25de",
   "metadata": {},
   "outputs": [
    {
     "data": {
      "text/plain": [
       "0"
      ]
     },
     "execution_count": 54,
     "metadata": {},
     "output_type": "execute_result"
    }
   ],
   "source": [
    "res"
   ]
  },
  {
   "cell_type": "code",
   "execution_count": 55,
   "id": "b578121f-f643-4761-9b63-64077105434e",
   "metadata": {},
   "outputs": [
    {
     "data": {
      "text/plain": [
       "defaultdict(int, {0: 1, -2: 0})"
      ]
     },
     "execution_count": 55,
     "metadata": {},
     "output_type": "execute_result"
    }
   ],
   "source": [
    "prefixSums"
   ]
  },
  {
   "cell_type": "code",
   "execution_count": 28,
   "id": "60df1b3b-51ac-42d1-b62d-e26c941e8b6b",
   "metadata": {},
   "outputs": [],
   "source": [
    "res = res + prefixSums[1-3]"
   ]
  },
  {
   "cell_type": "code",
   "execution_count": 29,
   "id": "7650fbae-fcf4-43ad-abda-47ed069b8900",
   "metadata": {},
   "outputs": [
    {
     "data": {
      "text/plain": [
       "0"
      ]
     },
     "execution_count": 29,
     "metadata": {},
     "output_type": "execute_result"
    }
   ],
   "source": [
    "res"
   ]
  },
  {
   "cell_type": "code",
   "execution_count": 30,
   "id": "facbbaf8-d191-4dff-b29f-e34c0455d3cb",
   "metadata": {},
   "outputs": [
    {
     "data": {
      "text/plain": [
       "defaultdict(int, {0: 1, -2: 0})"
      ]
     },
     "execution_count": 30,
     "metadata": {},
     "output_type": "execute_result"
    }
   ],
   "source": [
    "prefixSums"
   ]
  },
  {
   "cell_type": "code",
   "execution_count": 31,
   "id": "ae520ff8-d419-4a41-92b3-ed2082e2d22b",
   "metadata": {},
   "outputs": [],
   "source": [
    "prefixSums[0] += 1"
   ]
  },
  {
   "cell_type": "code",
   "execution_count": 32,
   "id": "236e31ec-6321-4cfd-bb0d-d16864c38d5c",
   "metadata": {},
   "outputs": [
    {
     "data": {
      "text/plain": [
       "defaultdict(int, {0: 2, -2: 0})"
      ]
     },
     "execution_count": 32,
     "metadata": {},
     "output_type": "execute_result"
    }
   ],
   "source": [
    "prefixSums"
   ]
  },
  {
   "cell_type": "code",
   "execution_count": 40,
   "id": "c7d342f9-b6da-4d20-974b-9a36b3884187",
   "metadata": {},
   "outputs": [
    {
     "data": {
      "text/plain": [
       "defaultdict(int, {})"
      ]
     },
     "execution_count": 40,
     "metadata": {},
     "output_type": "execute_result"
    }
   ],
   "source": [
    "dic = defaultdict(int)\n",
    "dic"
   ]
  },
  {
   "cell_type": "code",
   "execution_count": 41,
   "id": "4b6aaa3e-250f-45e9-8747-69a685fa3995",
   "metadata": {},
   "outputs": [],
   "source": [
    "res = 0\n",
    "res = res + dic[1 - 2]"
   ]
  },
  {
   "cell_type": "code",
   "execution_count": 42,
   "id": "aadaf474-1286-436b-b8a7-1a7d95bf21bb",
   "metadata": {},
   "outputs": [
    {
     "data": {
      "text/plain": [
       "0"
      ]
     },
     "execution_count": 42,
     "metadata": {},
     "output_type": "execute_result"
    }
   ],
   "source": [
    "res"
   ]
  },
  {
   "cell_type": "code",
   "execution_count": 43,
   "id": "318e8302-0749-49cf-8b67-82dfa6096e0c",
   "metadata": {},
   "outputs": [
    {
     "data": {
      "text/plain": [
       "defaultdict(int, {-1: 0})"
      ]
     },
     "execution_count": 43,
     "metadata": {},
     "output_type": "execute_result"
    }
   ],
   "source": [
    "dic"
   ]
  },
  {
   "cell_type": "code",
   "execution_count": 44,
   "id": "d0215e43-58e9-49de-b831-e9037be2ff41",
   "metadata": {},
   "outputs": [
    {
     "data": {
      "text/plain": [
       "0"
      ]
     },
     "execution_count": 44,
     "metadata": {},
     "output_type": "execute_result"
    }
   ],
   "source": [
    "dic[-1]"
   ]
  },
  {
   "cell_type": "code",
   "execution_count": 46,
   "id": "b031ce51-3fd3-4d70-b8b6-2f65a630e3ed",
   "metadata": {},
   "outputs": [],
   "source": [
    "dic[2] = dic[2] + 1"
   ]
  },
  {
   "cell_type": "code",
   "execution_count": 47,
   "id": "3db260d7-98aa-4399-addc-76a916c64020",
   "metadata": {},
   "outputs": [
    {
     "data": {
      "text/plain": [
       "defaultdict(int, {-1: 0, 2: 1})"
      ]
     },
     "execution_count": 47,
     "metadata": {},
     "output_type": "execute_result"
    }
   ],
   "source": [
    "dic"
   ]
  },
  {
   "cell_type": "code",
   "execution_count": 49,
   "id": "276d23c1-ed27-414a-ad57-97185fda0834",
   "metadata": {},
   "outputs": [],
   "source": [
    "res += dic[1]"
   ]
  },
  {
   "cell_type": "code",
   "execution_count": 50,
   "id": "87ba6794-a9af-47ad-863a-5f76223fae1a",
   "metadata": {},
   "outputs": [
    {
     "data": {
      "text/plain": [
       "0"
      ]
     },
     "execution_count": 50,
     "metadata": {},
     "output_type": "execute_result"
    }
   ],
   "source": [
    "res"
   ]
  },
  {
   "cell_type": "code",
   "execution_count": 51,
   "id": "ef090a80-3bc4-407f-81ba-c4021110137d",
   "metadata": {},
   "outputs": [
    {
     "data": {
      "text/plain": [
       "defaultdict(int, {-1: 0, 2: 1, 1: 0})"
      ]
     },
     "execution_count": 51,
     "metadata": {},
     "output_type": "execute_result"
    }
   ],
   "source": [
    "dic"
   ]
  },
  {
   "cell_type": "code",
   "execution_count": null,
   "id": "fa8c10b2-54d0-4781-a781-1f65e134e96e",
   "metadata": {},
   "outputs": [],
   "source": []
  },
  {
   "cell_type": "code",
   "execution_count": null,
   "id": "329d914e-a8b7-4765-ac24-c5365f6b7eee",
   "metadata": {},
   "outputs": [],
   "source": []
  },
  {
   "cell_type": "code",
   "execution_count": null,
   "id": "4e3b9318-80c1-4b24-8da6-0322e859adb1",
   "metadata": {},
   "outputs": [],
   "source": []
  }
 ],
 "metadata": {
  "kernelspec": {
   "display_name": "Python 3 (ipykernel)",
   "language": "python",
   "name": "python3"
  },
  "language_info": {
   "codemirror_mode": {
    "name": "ipython",
    "version": 3
   },
   "file_extension": ".py",
   "mimetype": "text/x-python",
   "name": "python",
   "nbconvert_exporter": "python",
   "pygments_lexer": "ipython3",
   "version": "3.9.12"
  }
 },
 "nbformat": 4,
 "nbformat_minor": 5
}
